{
 "cells": [
  {
   "attachments": {},
   "cell_type": "markdown",
   "metadata": {},
   "source": [
    "# Import Libary"
   ]
  },
  {
   "cell_type": "code",
   "execution_count": 1,
   "metadata": {},
   "outputs": [],
   "source": [
    "import pandas as pd\n",
    "import matplotlib.pyplot as plt\n",
    "import seaborn as sns\n",
    "import statsmodels.api as sm\n",
    "from sklearn.preprocessing import MinMaxScaler\n",
    "from sklearn.linear_model import LinearRegression\n",
    "from sklearn.model_selection import train_test_split\n",
    "from sklearn.datasets import load_diabetes\n",
    "from sklearn.ensemble import ExtraTreesRegressor\n",
    "from sklearn.metrics import mean_absolute_percentage_error"
   ]
  },
  {
   "attachments": {},
   "cell_type": "markdown",
   "metadata": {},
   "source": [
    "# Import Data"
   ]
  },
  {
   "cell_type": "code",
   "execution_count": 2,
   "metadata": {},
   "outputs": [
    {
     "data": {
      "text/html": [
       "<div>\n",
       "<style scoped>\n",
       "    .dataframe tbody tr th:only-of-type {\n",
       "        vertical-align: middle;\n",
       "    }\n",
       "\n",
       "    .dataframe tbody tr th {\n",
       "        vertical-align: top;\n",
       "    }\n",
       "\n",
       "    .dataframe thead th {\n",
       "        text-align: right;\n",
       "    }\n",
       "</style>\n",
       "<table border=\"1\" class=\"dataframe\">\n",
       "  <thead>\n",
       "    <tr style=\"text-align: right;\">\n",
       "      <th></th>\n",
       "      <th>Provinsi</th>\n",
       "      <th>Pendidikan</th>\n",
       "      <th>Sanitasi</th>\n",
       "      <th>IPM</th>\n",
       "      <th>PLN</th>\n",
       "      <th>Laju Ekonomi</th>\n",
       "      <th>Pendapatan</th>\n",
       "      <th>Kemiskinan</th>\n",
       "    </tr>\n",
       "  </thead>\n",
       "  <tbody>\n",
       "    <tr>\n",
       "      <th>0</th>\n",
       "      <td>ACEH</td>\n",
       "      <td>70.67</td>\n",
       "      <td>77.48</td>\n",
       "      <td>72.80</td>\n",
       "      <td>99.69</td>\n",
       "      <td>4.21</td>\n",
       "      <td>17624</td>\n",
       "      <td>14.75</td>\n",
       "    </tr>\n",
       "    <tr>\n",
       "      <th>1</th>\n",
       "      <td>SUMATERA UTARA</td>\n",
       "      <td>77.16</td>\n",
       "      <td>82.30</td>\n",
       "      <td>72.71</td>\n",
       "      <td>98.70</td>\n",
       "      <td>4.73</td>\n",
       "      <td>17917</td>\n",
       "      <td>8.33</td>\n",
       "    </tr>\n",
       "    <tr>\n",
       "      <th>2</th>\n",
       "      <td>SUMATERA BARAT</td>\n",
       "      <td>65.96</td>\n",
       "      <td>69.27</td>\n",
       "      <td>73.26</td>\n",
       "      <td>98.82</td>\n",
       "      <td>4.36</td>\n",
       "      <td>16896</td>\n",
       "      <td>6.04</td>\n",
       "    </tr>\n",
       "    <tr>\n",
       "      <th>3</th>\n",
       "      <td>RIAU</td>\n",
       "      <td>66.91</td>\n",
       "      <td>84.06</td>\n",
       "      <td>73.52</td>\n",
       "      <td>95.20</td>\n",
       "      <td>4.55</td>\n",
       "      <td>21617</td>\n",
       "      <td>6.84</td>\n",
       "    </tr>\n",
       "    <tr>\n",
       "      <th>4</th>\n",
       "      <td>JAMBI</td>\n",
       "      <td>65.85</td>\n",
       "      <td>79.54</td>\n",
       "      <td>72.14</td>\n",
       "      <td>98.39</td>\n",
       "      <td>5.13</td>\n",
       "      <td>22004</td>\n",
       "      <td>7.70</td>\n",
       "    </tr>\n",
       "  </tbody>\n",
       "</table>\n",
       "</div>"
      ],
      "text/plain": [
       "         Provinsi  Pendidikan  Sanitasi    IPM    PLN  Laju Ekonomi  \\\n",
       "0            ACEH       70.67     77.48  72.80  99.69          4.21   \n",
       "1  SUMATERA UTARA       77.16     82.30  72.71  98.70          4.73   \n",
       "2  SUMATERA BARAT       65.96     69.27  73.26  98.82          4.36   \n",
       "3            RIAU       66.91     84.06  73.52  95.20          4.55   \n",
       "4           JAMBI       65.85     79.54  72.14  98.39          5.13   \n",
       "\n",
       "   Pendapatan  Kemiskinan  \n",
       "0       17624       14.75  \n",
       "1       17917        8.33  \n",
       "2       16896        6.04  \n",
       "3       21617        6.84  \n",
       "4       22004        7.70  "
      ]
     },
     "execution_count": 2,
     "metadata": {},
     "output_type": "execute_result"
    }
   ],
   "source": [
    "data = pd.read_excel('data/Dataset.xlsx')\n",
    "data.head()"
   ]
  },
  {
   "attachments": {},
   "cell_type": "markdown",
   "metadata": {},
   "source": [
    "# Normalisasi Min-Max Fitur"
   ]
  },
  {
   "attachments": {},
   "cell_type": "markdown",
   "metadata": {},
   "source": [
    "#### Bertujuan untuk memberikan nilai yang tidak terlalu besar"
   ]
  },
  {
   "cell_type": "code",
   "execution_count": 3,
   "metadata": {},
   "outputs": [
    {
     "data": {
      "text/html": [
       "<div>\n",
       "<style scoped>\n",
       "    .dataframe tbody tr th:only-of-type {\n",
       "        vertical-align: middle;\n",
       "    }\n",
       "\n",
       "    .dataframe tbody tr th {\n",
       "        vertical-align: top;\n",
       "    }\n",
       "\n",
       "    .dataframe thead th {\n",
       "        text-align: right;\n",
       "    }\n",
       "</style>\n",
       "<table border=\"1\" class=\"dataframe\">\n",
       "  <thead>\n",
       "    <tr style=\"text-align: right;\">\n",
       "      <th></th>\n",
       "      <th>Provinsi</th>\n",
       "      <th>Pendidikan</th>\n",
       "      <th>Sanitasi</th>\n",
       "      <th>IPM</th>\n",
       "      <th>PLN</th>\n",
       "      <th>Laju Ekonomi</th>\n",
       "      <th>Pendapatan</th>\n",
       "      <th>Kemiskinan</th>\n",
       "    </tr>\n",
       "  </thead>\n",
       "  <tbody>\n",
       "    <tr>\n",
       "      <th>0</th>\n",
       "      <td>ACEH</td>\n",
       "      <td>0.651163</td>\n",
       "      <td>0.664757</td>\n",
       "      <td>0.563179</td>\n",
       "      <td>0.995257</td>\n",
       "      <td>0.105112</td>\n",
       "      <td>0.207768</td>\n",
       "      <td>0.458913</td>\n",
       "    </tr>\n",
       "    <tr>\n",
       "      <th>1</th>\n",
       "      <td>SUMATERA UTARA</td>\n",
       "      <td>0.782406</td>\n",
       "      <td>0.751029</td>\n",
       "      <td>0.558736</td>\n",
       "      <td>0.977864</td>\n",
       "      <td>0.129957</td>\n",
       "      <td>0.216261</td>\n",
       "      <td>0.170633</td>\n",
       "    </tr>\n",
       "    <tr>\n",
       "      <th>2</th>\n",
       "      <td>SUMATERA BARAT</td>\n",
       "      <td>0.555915</td>\n",
       "      <td>0.517809</td>\n",
       "      <td>0.585884</td>\n",
       "      <td>0.979972</td>\n",
       "      <td>0.112279</td>\n",
       "      <td>0.186667</td>\n",
       "      <td>0.067804</td>\n",
       "    </tr>\n",
       "    <tr>\n",
       "      <th>3</th>\n",
       "      <td>RIAU</td>\n",
       "      <td>0.575126</td>\n",
       "      <td>0.782531</td>\n",
       "      <td>0.598717</td>\n",
       "      <td>0.916374</td>\n",
       "      <td>0.121357</td>\n",
       "      <td>0.323507</td>\n",
       "      <td>0.103727</td>\n",
       "    </tr>\n",
       "    <tr>\n",
       "      <th>4</th>\n",
       "      <td>JAMBI</td>\n",
       "      <td>0.553691</td>\n",
       "      <td>0.701629</td>\n",
       "      <td>0.530602</td>\n",
       "      <td>0.972417</td>\n",
       "      <td>0.149068</td>\n",
       "      <td>0.334725</td>\n",
       "      <td>0.142344</td>\n",
       "    </tr>\n",
       "  </tbody>\n",
       "</table>\n",
       "</div>"
      ],
      "text/plain": [
       "         Provinsi  Pendidikan  Sanitasi       IPM       PLN  Laju Ekonomi  \\\n",
       "0            ACEH    0.651163  0.664757  0.563179  0.995257      0.105112   \n",
       "1  SUMATERA UTARA    0.782406  0.751029  0.558736  0.977864      0.129957   \n",
       "2  SUMATERA BARAT    0.555915  0.517809  0.585884  0.979972      0.112279   \n",
       "3            RIAU    0.575126  0.782531  0.598717  0.916374      0.121357   \n",
       "4           JAMBI    0.553691  0.701629  0.530602  0.972417      0.149068   \n",
       "\n",
       "   Pendapatan  Kemiskinan  \n",
       "0    0.207768    0.458913  \n",
       "1    0.216261    0.170633  \n",
       "2    0.186667    0.067804  \n",
       "3    0.323507    0.103727  \n",
       "4    0.334725    0.142344  "
      ]
     },
     "execution_count": 3,
     "metadata": {},
     "output_type": "execute_result"
    }
   ],
   "source": [
    "columns_to_normalize = ['Pendidikan', 'Sanitasi', 'IPM', 'PLN', 'Laju Ekonomi', 'Pendapatan', 'Kemiskinan']\n",
    "scaler = MinMaxScaler()\n",
    "data[columns_to_normalize] = scaler.fit_transform(data[columns_to_normalize])\n",
    "\n",
    "data.head()"
   ]
  },
  {
   "attachments": {},
   "cell_type": "markdown",
   "metadata": {},
   "source": [
    "# Extact Fitur"
   ]
  },
  {
   "attachments": {},
   "cell_type": "markdown",
   "metadata": {},
   "source": [
    "##### Bertujuan untuk melihat fitur yang berpengaruh kepada Target"
   ]
  },
  {
   "cell_type": "code",
   "execution_count": 4,
   "metadata": {},
   "outputs": [
    {
     "name": "stdout",
     "output_type": "stream",
     "text": [
      "Fitur Importance on Kemiskinan : [0.20041896 0.12369174 0.23486227 0.18690767 0.07492832 0.17919104]\n"
     ]
    },
    {
     "data": {
      "image/png": "[encoded data removed]",
      "text/plain": [
       "<Figure size 640x480 with 1 Axes>"
      ]
     },
     "metadata": {},
     "output_type": "display_data"
    }
   ],
   "source": [
    "X_Extract_Fitur = data.drop(columns=['Provinsi','Kemiskinan'], axis=1)\n",
    "y_Extract_Fitur = data['Kemiskinan']\n",
    "\n",
    "modelExtraFitur = ExtraTreesRegressor()\n",
    "modelExtraFitur.fit(X_Extract_Fitur, y_Extract_Fitur)\n",
    "\n",
    "importance = modelExtraFitur.feature_importances_\n",
    "print(\"Fitur Importance on Kemiskinan : \" + str(importance))\n",
    "\n",
    "featImportance = pd.Series(modelExtraFitur.feature_importances_, index=X_Extract_Fitur.columns)\n",
    "featImportance.nlargest(25).plot(kind='barh')\n",
    "plt.xlabel(\"Kemiskinan\")\n",
    "plt.show()"
   ]
  },
  {
   "attachments": {},
   "cell_type": "markdown",
   "metadata": {},
   "source": [
    "# Corelation"
   ]
  },
  {
   "cell_type": "code",
   "execution_count": 5,
   "metadata": {},
   "outputs": [
    {
     "data": {
      "image/png": "[encoded data removed]",
      "text/plain": [
       "<Figure size 800x600 with 2 Axes>"
      ]
     },
     "metadata": {},
     "output_type": "display_data"
    }
   ],
   "source": [
    "df = data.drop(['Provinsi'], axis=1)\n",
    "correlation = df.corr(method='pearson')\n",
    "plt.figure(figsize=(8, 6))\n",
    "sns.heatmap(correlation, annot=True, cmap='RdYlGn')\n",
    "plt.title('Heatmap Korelasi')\n",
    "plt.show()"
   ]
  },
  {
   "attachments": {},
   "cell_type": "markdown",
   "metadata": {},
   "source": [
    "# Multiple Regression Linear"
   ]
  },
  {
   "attachments": {},
   "cell_type": "markdown",
   "metadata": {},
   "source": [
    "### OLS Regression"
   ]
  },
  {
   "cell_type": "code",
   "execution_count": 6,
   "metadata": {},
   "outputs": [],
   "source": [
    "X = data.drop(columns=['Provinsi', 'Kemiskinan'], axis=1)\n",
    "y = data['Kemiskinan']\n",
    "\n",
    "X_train, X_test, y_train, y_test = train_test_split(X, y, test_size=0.3, random_state=101)\n",
    "\n",
    "modelRegression = LinearRegression()\n",
    "modelRegression.fit(X_train,y_train)\n",
    "\n",
    "X = sm.add_constant(X)\n",
    "ols_model = sm.OLS(y, X)\n",
    "results = ols_model.fit()"
   ]
  },
  {
   "cell_type": "code",
   "execution_count": 7,
   "metadata": {},
   "outputs": [
    {
     "name": "stdout",
     "output_type": "stream",
     "text": [
      "mape :  38.051392587788214\n"
     ]
    }
   ],
   "source": [
    "data = load_diabetes()\n",
    "X, y = data.data, data.target\n",
    "X_train, X_test, y_train, y_test = train_test_split(X, y)\n",
    "\n",
    "lnr = LinearRegression()\n",
    "lnr.fit(X_train, y_train)\n",
    "predictions = lnr.predict(X_test)\n",
    "\n",
    "print('mape : ', mean_absolute_percentage_error(y_test, predictions)*100)"
   ]
  },
  {
   "attachments": {},
   "cell_type": "markdown",
   "metadata": {},
   "source": [
    "# Result"
   ]
  },
  {
   "cell_type": "code",
   "execution_count": 8,
   "metadata": {},
   "outputs": [
    {
     "name": "stdout",
     "output_type": "stream",
     "text": [
      "                            OLS Regression Results                            \n",
      "==============================================================================\n",
      "Dep. Variable:             Kemiskinan   R-squared:                       0.608\n",
      "Model:                            OLS   Adj. R-squared:                  0.521\n",
      "Method:                 Least Squares   F-statistic:                     6.991\n",
      "Date:                Sun, 25 Jun 2023   Prob (F-statistic):           0.000145\n",
      "Time:                        20:16:30   Log-Likelihood:                 17.102\n",
      "No. Observations:                  34   AIC:                            -20.20\n",
      "Df Residuals:                      27   BIC:                            -9.519\n",
      "Df Model:                           6                                         \n",
      "Covariance Type:            nonrobust                                         \n",
      "================================================================================\n",
      "                   coef    std err          t      P>|t|      [0.025      0.975]\n",
      "--------------------------------------------------------------------------------\n",
      "const            1.2019      0.181      6.653      0.000       0.831       1.573\n",
      "Pendidikan      -0.0237      0.255     -0.093      0.927      -0.548       0.500\n",
      "Sanitasi        -0.1551      0.325     -0.477      0.637      -0.822       0.512\n",
      "IPM             -0.1623      0.377     -0.430      0.670      -0.936       0.611\n",
      "PLN             -0.6245      0.299     -2.086      0.047      -1.239      -0.010\n",
      "Laju Ekonomi    -0.2709      0.166     -1.634      0.114      -0.611       0.069\n",
      "Pendapatan      -0.4319      0.225     -1.917      0.066      -0.894       0.030\n",
      "==============================================================================\n",
      "Omnibus:                        1.026   Durbin-Watson:                   1.595\n",
      "Prob(Omnibus):                  0.599   Jarque-Bera (JB):                0.896\n",
      "Skew:                          -0.146   Prob(JB):                        0.639\n",
      "Kurtosis:                       2.260   Cond. No.                         28.2\n",
      "==============================================================================\n",
      "\n",
      "Notes:\n",
      "[1] Standard Errors assume that the covariance matrix of the errors is correctly specified.\n"
     ]
    }
   ],
   "source": [
    "print(results.summary())"
   ]
  },
  {
   "attachments": {},
   "cell_type": "markdown",
   "metadata": {},
   "source": [
    "# Information"
   ]
  },
  {
   "attachments": {},
   "cell_type": "markdown",
   "metadata": {},
   "source": [
    "#### 1. Uji Simultan"
   ]
  },
  {
   "attachments": {},
   "cell_type": "markdown",
   "metadata": {},
   "source": [
    "Nilai p-value (0.000145) < α (0.05) maka H0 ditolak. Sehingga dapat disimpulkan bahwa terdapat pengaruh yang signifikan antara variabel prediktor terhadap variabel respons secara simultan."
   ]
  },
  {
   "attachments": {},
   "cell_type": "markdown",
   "metadata": {},
   "source": [
    "#### 2. Uji Parsial"
   ]
  },
  {
   "attachments": {},
   "cell_type": "markdown",
   "metadata": {},
   "source": [
    "- PendudukN -\n",
    "Nilai p-value (0.601) < α (0.05) maka H0 diterima. Dapat disimpulkan bahwa tidak terdapat pengaruh yang signifikan antara variabel PendudukN terhadap Kemiskinan secara parsial\n",
    "\n",
    "- IPM -\n",
    "Nilai p-value (0.568) < α (0.05) maka H0 diterima. Dapat disimpulkan bahwa tidak terdapat pengaruh yang signifikan antara variabel IPM terhadap Kemiskinan secara parsial\n",
    "\n",
    "- UsiaProduktif -\n",
    "Nilai p-value (0.991) < α (0.05) maka H0 diterima. Dapat disimpulkan bahwa tidak terdapat pengaruh yang signifikan antara variabel UsiaProduktif terhadap Kemiskinan secara parsial\n",
    "\n",
    "- PLN -\n",
    "Nilai p-value (0.030) < α (0.05) maka H0 ditolak. Dapat disimpulkan bahwa terdapat pengaruh yang signifikan antara variabel PLN terhadap Kemiskinan secara parsial\n",
    "\n",
    "- Kepadatan -\n",
    "Nilai p-value (0.340) < α (0.05) maka H0 diterima. Dapat disimpulkan bahwa tidak terdapat pengaruh yang signifikan antara variabel Kepadatan terhadap Kemiskinan secara parsial\n",
    "\n",
    "- PengeluaranN -\n",
    "Nilai p-value (0.153) < α (0.05) maka H0 diterima. Dapat disimpulkan bahwa tidak terdapat pengaruh yang signifikan antara variabel PengeluaranN terhadap Kemiskinan secara parsial"
   ]
  },
  {
   "attachments": {},
   "cell_type": "markdown",
   "metadata": {},
   "source": [
    "#### 3. Koefisien Determinasi"
   ]
  },
  {
   "attachments": {},
   "cell_type": "markdown",
   "metadata": {},
   "source": [
    "Koefisien determinasi sebesar 0.558 artinya variabel prediktor (PendudukN, IPM, UsiaProduktif, PLN, Kepadatan, PengeluaranN) mempengaruhi variabel respons (Kemiskinan) sebesar 55,8%, sedangkan sisanya dipengaruhi variabel lain di luar model."
   ]
  }
 ],
 "metadata": {
  "kernelspec": {
   "display_name": "Python 3",
   "language": "python",
   "name": "python3"
  },
  "language_info": {
   "codemirror_mode": {
    "name": "ipython",
    "version": 3
   },
   "file_extension": ".py",
   "mimetype": "text/x-python",
   "name": "python",
   "nbconvert_exporter": "python",
   "pygments_lexer": "ipython3",
   "version": "3.10.0"
  },
  "orig_nbformat": 4
 },
 "nbformat": 4,
 "nbformat_minor": 2
}
